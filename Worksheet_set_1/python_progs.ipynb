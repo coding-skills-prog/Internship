{
  "nbformat": 4,
  "nbformat_minor": 0,
  "metadata": {
    "colab": {
      "name": "python_progs.ipynb",
      "provenance": [],
      "collapsed_sections": []
    },
    "kernelspec": {
      "name": "python3",
      "display_name": "Python 3"
    },
    "language_info": {
      "name": "python"
    }
  },
  "cells": [
    {
      "cell_type": "markdown",
      "source": [
        "\n",
        "## 11) Write a python program to find the **factorial** of a number\n",
        "\n",
        "\n"
      ],
      "metadata": {
        "id": "JMdoV99zV0cv"
      }
    },
    {
      "cell_type": "code",
      "source": [
        "def factorial(num):\n",
        "  if num == 0:\n",
        "    return 1\n",
        "  # initializing mul as value of 1\n",
        "  mul = 1\n",
        "  # using a while loop until num value reduces to 0\n",
        "  while num != 0:\n",
        "    mul *= num\n",
        "    num -= 1\n",
        "  return mul\n",
        "\n",
        "#user input\n",
        "usr_n = int(input())\n",
        "#invoking a factorial funtion\n",
        "print(factorial(usr_n))  \n",
        "  "
      ],
      "metadata": {
        "colab": {
          "base_uri": "https://localhost:8080/"
        },
        "id": "3jhecpHbV5B1",
        "outputId": "fb1fb1ce-aa9b-46a3-b545-ca1cdd04be77"
      },
      "execution_count": 2,
      "outputs": [
        {
          "output_type": "stream",
          "name": "stdout",
          "text": [
            "5\n",
            "120\n"
          ]
        }
      ]
    },
    {
      "cell_type": "markdown",
      "source": [
        "## 12)Write a python program to find whether a number is **prime** or **composite**"
      ],
      "metadata": {
        "id": "Uy3_jX7zXyJD"
      }
    },
    {
      "cell_type": "code",
      "source": [
        "def pri_or_comp(num):\n",
        "  if num > 1:\n",
        "    for i in range(2,num):\n",
        "      # checking with if condition whether the given number is divisible by current iterative number\n",
        "      if (num % i) == 0:\n",
        "        return \"composite number\"\n",
        "    return \"prime number\"\n",
        "  else:\n",
        "    return \"composite number\"\n",
        "\n",
        "usr_n = int(input())\n",
        "print(pri_or_comp(usr_n))\n"
      ],
      "metadata": {
        "colab": {
          "base_uri": "https://localhost:8080/"
        },
        "id": "RB6tQ_1LX72Y",
        "outputId": "681dce17-84f7-4715-87d0-453e392b25c0"
      },
      "execution_count": 6,
      "outputs": [
        {
          "output_type": "stream",
          "name": "stdout",
          "text": [
            "8\n",
            "composite number\n"
          ]
        }
      ]
    },
    {
      "cell_type": "markdown",
      "source": [
        "## 13)Write a python program to check whether a given string is palindrome or not"
      ],
      "metadata": {
        "id": "OzO86vBRa7l3"
      }
    },
    {
      "cell_type": "code",
      "source": [
        "def is_palindrome(string):\n",
        "  #using a slicing operation to check whether its a palindrome or not\n",
        "  if string == string[::-1]:\n",
        "    return True\n",
        "  return False\n",
        "\n",
        "print(is_palindrome(input()))"
      ],
      "metadata": {
        "colab": {
          "base_uri": "https://localhost:8080/"
        },
        "id": "Lryhsfj_bC-w",
        "outputId": "1a6b3fef-1f3c-46c7-decb-8ee41bfb8aee"
      },
      "execution_count": 10,
      "outputs": [
        {
          "output_type": "stream",
          "name": "stdout",
          "text": [
            "hello\n",
            "False\n"
          ]
        }
      ]
    },
    {
      "cell_type": "markdown",
      "source": [
        "## 14)Write a Python program to get the **third side** of right-angled triangle from two given sides."
      ],
      "metadata": {
        "id": "SYHH06lIcV28"
      }
    },
    {
      "cell_type": "code",
      "source": [
        "#importing a math module from which we can import square root funtion directly\n",
        "import math\n",
        "def third_side(side1,side2):\n",
        "  side3 = math.sqrt(((side1) ** 2 + (side2) ** 2))\n",
        "  return side3\n",
        "  \n",
        "print(third_side(int(input()),int(input())))"
      ],
      "metadata": {
        "colab": {
          "base_uri": "https://localhost:8080/"
        },
        "id": "T4xRplv_cfU_",
        "outputId": "9f0643fe-4f3a-4f30-e461-a1691b3faac6"
      },
      "execution_count": 15,
      "outputs": [
        {
          "output_type": "stream",
          "name": "stdout",
          "text": [
            "3\n",
            "4\n",
            "5.0\n"
          ]
        }
      ]
    },
    {
      "cell_type": "markdown",
      "source": [
        "## 15)Write a python program to print the frequency of each of the characters present in a given string"
      ],
      "metadata": {
        "id": "KO3OGVsFeRia"
      }
    },
    {
      "cell_type": "code",
      "source": [
        "def freq_of_chars(string):\n",
        "  # iniatializing a empty dictionary in which frenquecy of each characters will be added as key value pairs\n",
        "  d = {}\n",
        "  for i in string:\n",
        "    # converting all the chars into lower case\n",
        "    i = i.lower()\n",
        "    if i in d:\n",
        "      d[i] += 1\n",
        "    else:\n",
        "      d[i] = 1\n",
        "  return d\n",
        "s\n",
        "print(freq_of_chars(input()))"
      ],
      "metadata": {
        "colab": {
          "base_uri": "https://localhost:8080/"
        },
        "id": "Dnnix3VKeT-L",
        "outputId": "19908d57-270b-4389-d0ad-33aadb0b3914"
      },
      "execution_count": 19,
      "outputs": [
        {
          "output_type": "stream",
          "name": "stdout",
          "text": [
            "intelligency\n",
            "{'i': 2, 'n': 2, 't': 1, 'e': 2, 'l': 2, 'g': 1, 'c': 1, 'y': 1}\n"
          ]
        }
      ]
    },
    {
      "cell_type": "code",
      "source": [
        ""
      ],
      "metadata": {
        "id": "sQdpqaADfVCD"
      },
      "execution_count": null,
      "outputs": []
    }
  ]
}